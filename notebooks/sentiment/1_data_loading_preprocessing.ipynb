{
 "cells": [
  {
   "cell_type": "code",
   "execution_count": 1,
   "id": "35ef3c1c-48aa-4776-802c-3a29a02c50c2",
   "metadata": {},
   "outputs": [],
   "source": [
    "# Imports\n",
    "import pandas as pd\n",
    "import numpy as np\n",
    "import re\n",
    "from sklearn.model_selection import train_test_split"
   ]
  },
  {
   "cell_type": "code",
   "execution_count": 2,
   "id": "efa64c58-64a7-46eb-b87f-2e9238abed80",
   "metadata": {},
   "outputs": [
    {
     "name": "stdout",
     "output_type": "stream",
     "text": [
      "Sample data:\n",
      "                                                text sentiment\n",
      "0                I`d have responded, if I were going   neutral\n",
      "1      Sooo SAD I will miss you here in San Diego!!!  negative\n",
      "2                          my boss is bullying me...  negative\n",
      "3                     what interview! leave me alone  negative\n",
      "4   Sons of ****, why couldn`t they put them on t...  negative\n"
     ]
    }
   ],
   "source": [
    "# Load data\n",
    "data_path = '../../data/sentiment-analysis/train.csv'\n",
    "df = pd.read_csv(data_path, encoding='ISO-8859-1')\n",
    "\n",
    "# Remove duplicates and missing values\n",
    "df = df.drop_duplicates(subset=['text'])\n",
    "df = df.dropna(subset=['text', 'sentiment'])\n",
    "\n",
    "# Preview data\n",
    "print(\"Sample data:\")\n",
    "print(df[['text', 'sentiment']].head())"
   ]
  },
  {
   "cell_type": "code",
   "execution_count": 3,
   "id": "7f916af7-32fb-45b7-969a-829634234eaa",
   "metadata": {},
   "outputs": [],
   "source": [
    "# Text cleaning\n",
    "def clean_text(text):\n",
    "    text = str(text).lower()\n",
    "    text = re.sub(r'https?://\\S+|www\\.\\S+', '', text)\n",
    "    text = re.sub(r\"[^a-z0-9\\s']\", '', text)\n",
    "    text = re.sub(r'\\s+', ' ', text).strip()\n",
    "    return text\n",
    "\n",
    "df['clean_text'] = df['text'].apply(clean_text)\n",
    "df = df[df['clean_text'].str.len() > 0]"
   ]
  },
  {
   "cell_type": "code",
   "execution_count": 4,
   "id": "99eae8b8-12af-47b2-bb12-8ce1dc8b089a",
   "metadata": {},
   "outputs": [],
   "source": [
    "# Encode sentiment labels\n",
    "label_map = {'positive': 2, 'neutral': 1, 'negative': 0}\n",
    "df = df[df['sentiment'].isin(label_map.keys())]\n",
    "df['label'] = df['sentiment'].map(label_map)"
   ]
  },
  {
   "cell_type": "code",
   "execution_count": 5,
   "id": "aaace7b6-7344-428c-b992-8b60e25fa445",
   "metadata": {},
   "outputs": [
    {
     "name": "stdout",
     "output_type": "stream",
     "text": [
      "Training samples: 23355\n",
      "Validation samples: 4122\n",
      "Train label counts:\n",
      " label\n",
      "1    9448\n",
      "2    7294\n",
      "0    6613\n",
      "Name: count, dtype: int64\n",
      "Val label counts:\n",
      " label\n",
      "1    1667\n",
      "2    1288\n",
      "0    1167\n",
      "Name: count, dtype: int64\n"
     ]
    }
   ],
   "source": [
    "# Split dataset\n",
    "train_df, val_df = train_test_split(\n",
    "    df, test_size=0.15, stratify=df['label'], random_state=42\n",
    ")\n",
    "\n",
    "print(\"Training samples:\", len(train_df))\n",
    "print(\"Validation samples:\", len(val_df))\n",
    "print(\"Train label counts:\\n\", train_df['label'].value_counts())\n",
    "print(\"Val label counts:\\n\", val_df['label'].value_counts())"
   ]
  },
  {
   "cell_type": "code",
   "execution_count": 6,
   "id": "04d13f11-bbd2-4df1-babb-101e58843371",
   "metadata": {},
   "outputs": [
    {
     "name": "stdout",
     "output_type": "stream",
     "text": [
      "Training samples: 23355\n",
      "Validation samples: 4122\n",
      "Train label counts:\n",
      " label\n",
      "1    9448\n",
      "2    7294\n",
      "0    6613\n",
      "Name: count, dtype: int64\n",
      "Val label counts:\n",
      " label\n",
      "1    1667\n",
      "2    1288\n",
      "0    1167\n",
      "Name: count, dtype: int64\n"
     ]
    }
   ],
   "source": [
    "# Stratified split\n",
    "train_df, val_df = train_test_split(\n",
    "    df, test_size=0.15, stratify=df['label'], random_state=42\n",
    ")\n",
    "print(\"Training samples:\", len(train_df))\n",
    "print(\"Validation samples:\", len(val_df))\n",
    "print(\"Train label counts:\\n\", train_df['label'].value_counts())\n",
    "print(\"Val label counts:\\n\", val_df['label'].value_counts())"
   ]
  },
  {
   "cell_type": "code",
   "execution_count": 7,
   "id": "998eb90c-dcdb-45c6-a0f0-c323d75b58be",
   "metadata": {},
   "outputs": [
    {
     "name": "stdout",
     "output_type": "stream",
     "text": [
      "Saved.\n"
     ]
    }
   ],
   "source": [
    "# Save\n",
    "train_df.to_csv('../../data/sentiment-analysis/processed_train.csv', index=False)\n",
    "val_df.to_csv('../../data/sentiment-analysis/processed_val.csv', index=False)\n",
    "print(\"Saved.\")"
   ]
  }
 ],
 "metadata": {
  "kernelspec": {
   "display_name": "Python 3 (ipykernel)",
   "language": "python",
   "name": "python3"
  },
  "language_info": {
   "codemirror_mode": {
    "name": "ipython",
    "version": 3
   },
   "file_extension": ".py",
   "mimetype": "text/x-python",
   "name": "python",
   "nbconvert_exporter": "python",
   "pygments_lexer": "ipython3",
   "version": "3.13.5"
  }
 },
 "nbformat": 4,
 "nbformat_minor": 5
}
