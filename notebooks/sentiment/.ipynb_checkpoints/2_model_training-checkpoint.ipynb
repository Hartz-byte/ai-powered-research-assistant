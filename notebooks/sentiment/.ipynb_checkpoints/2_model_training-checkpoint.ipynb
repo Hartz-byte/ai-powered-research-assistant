{
 "cells": [
  {
   "cell_type": "code",
   "execution_count": 1,
   "id": "f3516b0b-4a4e-491d-8b95-1efd39e1c582",
   "metadata": {},
   "outputs": [],
   "source": [
    "# Imports\n",
    "import os\n",
    "import pandas as pd\n",
    "from collections import Counter\n",
    "import torch\n",
    "import torch.nn as nn\n",
    "from torch.utils.data import Dataset, DataLoader\n",
    "import torch.optim as optim\n",
    "from torch.optim.lr_scheduler import ReduceLROnPlateau\n",
    "import json"
   ]
  },
  {
   "cell_type": "code",
   "execution_count": 2,
   "id": "ce8e9d20-1675-4fc9-a244-f440447ea2aa",
   "metadata": {},
   "outputs": [],
   "source": [
    "# Parameters\n",
    "max_len = 100\n",
    "embedding_dim = 64\n",
    "hidden_dim = 120\n",
    "num_layers = 1\n",
    "dropout = 0.5\n",
    "batch_size = 18\n",
    "epochs = 15\n",
    "patience_limit = 4\n",
    "\n",
    "save_path = '../../models/sentiment/'\n",
    "os.makedirs(save_path, exist_ok=True)\n",
    "vocab_path = os.path.join(save_path, 'vocab.json')"
   ]
  },
  {
   "cell_type": "code",
   "execution_count": 3,
   "id": "da73bf8a-05ca-4e6d-b9c6-8f15e62da2f0",
   "metadata": {},
   "outputs": [],
   "source": [
    "# Load processed data\n",
    "train_df = pd.read_csv('../../data/sentiment-analysis/processed_train.csv')\n",
    "val_df = pd.read_csv('../../data/sentiment-analysis/processed_val.csv')"
   ]
  },
  {
   "cell_type": "code",
   "execution_count": 4,
   "id": "90458d35-2073-458a-af35-f8ac0020418f",
   "metadata": {},
   "outputs": [
    {
     "name": "stdout",
     "output_type": "stream",
     "text": [
      "Vocab saved at: ../../models/sentiment/vocab.json\n",
      "Vocab size: 9298\n"
     ]
    }
   ],
   "source": [
    "# Build vocabulary\n",
    "def build_vocab(texts, min_freq=2):\n",
    "    counter = Counter()\n",
    "    for text in texts:\n",
    "        tokens = text.split()\n",
    "        counter.update(tokens)\n",
    "    vocab = [w for w, freq in counter.items() if freq >= min_freq]\n",
    "    word2idx = {w: i + 2 for i, w in enumerate(vocab)}\n",
    "    word2idx['<PAD>'] = 0\n",
    "    word2idx['<UNK>'] = 1\n",
    "    return word2idx\n",
    "\n",
    "vocab = build_vocab(train_df['clean_text'])\n",
    "vocab_size = len(vocab)\n",
    "\n",
    "with open(vocab_path, 'w') as f:\n",
    "    json.dump(vocab, f)\n",
    "\n",
    "print(\"Vocab saved at:\", vocab_path)\n",
    "print(\"Vocab size:\", vocab_size)"
   ]
  },
  {
   "cell_type": "code",
   "execution_count": 5,
   "id": "15b37db3-13c2-48d5-822e-5c4d8de2c15c",
   "metadata": {},
   "outputs": [],
   "source": [
    "# Dataset Class\n",
    "class SentimentDataset(Dataset):\n",
    "    def __init__(self, df, word2idx, max_len=max_len):\n",
    "        self.texts = df['clean_text'].fillna('').values\n",
    "        self.labels = df['label'].values\n",
    "        self.word2idx = word2idx\n",
    "        self.max_len = max_len\n",
    "\n",
    "    def encode(self, text):\n",
    "        tokens = text.split()\n",
    "        ids = [self.word2idx.get(t, self.word2idx['<UNK>']) for t in tokens]\n",
    "        if len(ids) < self.max_len:\n",
    "            ids += [self.word2idx['<PAD>']] * (self.max_len - len(ids))\n",
    "        else:\n",
    "            ids = ids[:self.max_len]\n",
    "        return ids\n",
    "\n",
    "    def __len__(self):\n",
    "        return len(self.labels)\n",
    "\n",
    "    def __getitem__(self, idx):\n",
    "        x = torch.tensor(self.encode(self.texts[idx]), dtype=torch.long)\n",
    "        y = torch.tensor(self.labels[idx], dtype=torch.long)\n",
    "        return x, y"
   ]
  },
  {
   "cell_type": "code",
   "execution_count": 6,
   "id": "7bebd24e-8e59-4b22-bae0-a1b69da954b3",
   "metadata": {},
   "outputs": [],
   "source": [
    "# DataLoaders\n",
    "train_dataset = SentimentDataset(train_df, vocab)\n",
    "val_dataset = SentimentDataset(val_df, vocab)\n",
    "train_loader = DataLoader(train_dataset, batch_size=batch_size, shuffle=True)\n",
    "val_loader = DataLoader(val_dataset, batch_size=batch_size)"
   ]
  },
  {
   "cell_type": "code",
   "execution_count": 10,
   "id": "e87920a0-e2db-450b-96c6-b479b4672580",
   "metadata": {},
   "outputs": [],
   "source": [
    "# Model\n",
    "class BiLSTMClassifier(nn.Module):\n",
    "    def __init__(self, vocab_size, embedding_dim=embedding_dim, hidden_dim=hidden_dim,\n",
    "                 output_dim=3, num_layers=num_layers, dropout=dropout):\n",
    "        super().__init__()\n",
    "        self.embedding = nn.Embedding(vocab_size, embedding_dim, padding_idx=0)\n",
    "        self.lstm = nn.LSTM(embedding_dim, hidden_dim, num_layers,\n",
    "                            batch_first=True, dropout=dropout, bidirectional=True)\n",
    "        self.fc = nn.Linear(hidden_dim * 2, output_dim)\n",
    "        self.dropout = nn.Dropout(dropout)\n",
    "\n",
    "    def forward(self, x):\n",
    "        embedded = self.embedding(x)\n",
    "        lstm_out, (hidden, _) = self.lstm(embedded)\n",
    "        hidden_cat = torch.cat((hidden[-2], hidden[-1]), dim=1)\n",
    "        out = self.dropout(hidden_cat)\n",
    "        return self.fc(out)"
   ]
  },
  {
   "cell_type": "code",
   "execution_count": 11,
   "id": "6162fd08-1f9c-4783-a559-b12dbcfbf986",
   "metadata": {},
   "outputs": [
    {
     "name": "stderr",
     "output_type": "stream",
     "text": [
      "/mnt/d/ML/Projects/ai-powered-research-assistant/assistant-gpu/lib/python3.13/site-packages/torch/nn/modules/rnn.py:123: UserWarning: dropout option adds dropout after all but last recurrent layer, so non-zero dropout expects num_layers greater than 1, but got dropout=0.5 and num_layers=1\n",
      "  warnings.warn(\n"
     ]
    }
   ],
   "source": [
    "# Training setup\n",
    "device = torch.device(\"cuda\" if torch.cuda.is_available() else \"cpu\")\n",
    "model = BiLSTMClassifier(vocab_size).to(device)\n",
    "criterion = nn.CrossEntropyLoss()\n",
    "optimizer = optim.Adam(model.parameters(), lr=1e-3, weight_decay=1e-5)\n",
    "scheduler = ReduceLROnPlateau(optimizer, mode='max', patience=2, factor=0.5, min_lr=1e-5)"
   ]
  },
  {
   "cell_type": "code",
   "execution_count": 12,
   "id": "68415d19-4d23-4d5c-a778-603e0cb2fbf2",
   "metadata": {},
   "outputs": [
    {
     "name": "stdout",
     "output_type": "stream",
     "text": [
      "Epoch 1: Train acc 0.538, Val acc 0.636\n",
      "Epoch 2: Train acc 0.678, Val acc 0.684\n",
      "Epoch 3: Train acc 0.741, Val acc 0.695\n",
      "Epoch 4: Train acc 0.777, Val acc 0.707\n",
      "Epoch 5: Train acc 0.807, Val acc 0.706\n",
      "Epoch 6: Train acc 0.830, Val acc 0.703\n",
      "Epoch 7: Train acc 0.855, Val acc 0.700\n",
      "Epoch 8: Train acc 0.893, Val acc 0.704\n",
      "Early stopping!\n",
      "Finished training. Best val acc: 0.7069383794274624\n"
     ]
    }
   ],
   "source": [
    "# Training loop with early stopping\n",
    "best_val_acc = 0\n",
    "patience_counter = 0\n",
    "\n",
    "for epoch in range(epochs):\n",
    "    # Train\n",
    "    model.train()\n",
    "    total, correct = 0, 0\n",
    "    for x_batch, y_batch in train_loader:\n",
    "        x_batch, y_batch = x_batch.to(device), y_batch.to(device)\n",
    "        optimizer.zero_grad()\n",
    "        output = model(x_batch)\n",
    "        loss = criterion(output, y_batch)\n",
    "        loss.backward()\n",
    "        optimizer.step()\n",
    "        preds = output.argmax(dim=1)\n",
    "        correct += (preds == y_batch).sum().item()\n",
    "        total += y_batch.size(0)\n",
    "    train_acc = correct / total\n",
    "\n",
    "    # Validation\n",
    "    model.eval()\n",
    "    val_correct, val_total = 0, 0\n",
    "    with torch.no_grad():\n",
    "        for x_batch, y_batch in val_loader:\n",
    "            x_batch, y_batch = x_batch.to(device), y_batch.to(device)\n",
    "            output = model(x_batch)\n",
    "            preds = output.argmax(dim=1)\n",
    "            val_correct += (preds == y_batch).sum().item()\n",
    "            val_total += y_batch.size(0)\n",
    "    val_acc = val_correct / val_total\n",
    "    print(f\"Epoch {epoch+1}: Train acc {train_acc:.3f}, Val acc {val_acc:.3f}\")\n",
    "\n",
    "    scheduler.step(val_acc)\n",
    "    if val_acc > best_val_acc:\n",
    "        best_val_acc = val_acc\n",
    "        patience_counter = 0\n",
    "        torch.save(model.state_dict(), os.path.join(save_path, 'best_sentiment_model.pt'))\n",
    "    else:\n",
    "        patience_counter += 1\n",
    "        if patience_counter >= patience_limit:\n",
    "            print(\"Early stopping!\")\n",
    "            break\n",
    "\n",
    "print(\"Finished training. Best val acc:\", best_val_acc)"
   ]
  },
  {
   "cell_type": "code",
   "execution_count": null,
   "id": "26230163-0bd3-448c-9953-c1c6288ecb5f",
   "metadata": {},
   "outputs": [],
   "source": []
  }
 ],
 "metadata": {
  "kernelspec": {
   "display_name": "Python 3 (ipykernel)",
   "language": "python",
   "name": "python3"
  },
  "language_info": {
   "codemirror_mode": {
    "name": "ipython",
    "version": 3
   },
   "file_extension": ".py",
   "mimetype": "text/x-python",
   "name": "python",
   "nbconvert_exporter": "python",
   "pygments_lexer": "ipython3",
   "version": "3.13.5"
  }
 },
 "nbformat": 4,
 "nbformat_minor": 5
}
