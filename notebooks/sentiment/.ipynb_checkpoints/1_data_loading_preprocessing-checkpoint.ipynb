{
 "cells": [
  {
   "cell_type": "code",
   "execution_count": 4,
   "id": "35ef3c1c-48aa-4776-802c-3a29a02c50c2",
   "metadata": {},
   "outputs": [],
   "source": [
    "# imports\n",
    "import pandas as pd\n",
    "import numpy as np\n",
    "import re\n",
    "from sklearn.model_selection import train_test_split"
   ]
  },
  {
   "cell_type": "code",
   "execution_count": 5,
   "id": "efa64c58-64a7-46eb-b87f-2e9238abed80",
   "metadata": {},
   "outputs": [
    {
     "name": "stdout",
     "output_type": "stream",
     "text": [
      "Sample data:\n",
      "                                                text sentiment\n",
      "0                I`d have responded, if I were going   neutral\n",
      "1      Sooo SAD I will miss you here in San Diego!!!  negative\n",
      "2                          my boss is bullying me...  negative\n",
      "3                     what interview! leave me alone  negative\n",
      "4   Sons of ****, why couldn`t they put them on t...  negative\n",
      "\n",
      "Dataset shape: (27481, 10)\n",
      "\n",
      "Sentiment counts:\n",
      "sentiment\n",
      "neutral     11118\n",
      "positive     8582\n",
      "negative     7781\n",
      "Name: count, dtype: int64\n"
     ]
    }
   ],
   "source": [
    "# Load data\n",
    "data_path = '../../data/sentiment-analysis/train.csv'\n",
    "df = pd.read_csv(data_path, encoding='ISO-8859-1')\n",
    "\n",
    "# Preview\n",
    "print(\"Sample data:\")\n",
    "print(df[['text','sentiment']].head())\n",
    "\n",
    "# Basic info\n",
    "print(\"\\nDataset shape:\", df.shape)\n",
    "print(\"\\nSentiment counts:\")\n",
    "print(df['sentiment'].value_counts())"
   ]
  },
  {
   "cell_type": "code",
   "execution_count": 6,
   "id": "99eae8b8-12af-47b2-bb12-8ce1dc8b089a",
   "metadata": {},
   "outputs": [],
   "source": [
    "# Text cleaning function\n",
    "def clean_text(text):\n",
    "    text = str(text).lower()  # Lowercase\n",
    "    text = re.sub(r'https?://\\S+|www\\.\\S+', '', text)  # Remove URLs\n",
    "    text = re.sub(r'[^a-z0-9\\s\\']', '', text)  # Keep letters, digits, spaces, apostrophes\n",
    "    text = re.sub(r'\\s+', ' ', text).strip()  # Remove extra whitespace\n",
    "    return text"
   ]
  },
  {
   "cell_type": "code",
   "execution_count": 7,
   "id": "5579e266-8fbd-4b99-b3a8-dbf7781b3262",
   "metadata": {},
   "outputs": [],
   "source": [
    "# Apply cleaning\n",
    "df['clean_text'] = df['text'].apply(clean_text)\n",
    "\n",
    "# Remove empty or null cleaned texts if any\n",
    "df = df[df['clean_text'].str.len() > 0]"
   ]
  },
  {
   "cell_type": "code",
   "execution_count": 8,
   "id": "656a3b3e-ebb1-4e48-809b-1ecc9e7a3f14",
   "metadata": {},
   "outputs": [],
   "source": [
    "# Encode sentiment labels (example)\n",
    "label_map = {'positive': 2, 'neutral': 1, 'negative': 0}\n",
    "df = df[df['sentiment'].isin(label_map.keys())]\n",
    "df['label'] = df['sentiment'].map(label_map)"
   ]
  },
  {
   "cell_type": "code",
   "execution_count": 9,
   "id": "d83fc7b1-da05-479f-8ef0-54afbdfb9830",
   "metadata": {},
   "outputs": [
    {
     "name": "stdout",
     "output_type": "stream",
     "text": [
      "\n",
      "Training samples: 23356\n",
      "Validation samples: 4122\n"
     ]
    }
   ],
   "source": [
    "# Train-test split (you can adjust test size)\n",
    "train_df, val_df = train_test_split(df, test_size=0.15, stratify=df['label'], random_state=42)\n",
    "\n",
    "print(\"\\nTraining samples:\", len(train_df))\n",
    "print(\"Validation samples:\", len(val_df))"
   ]
  },
  {
   "cell_type": "code",
   "execution_count": 10,
   "id": "04d13f11-bbd2-4df1-babb-101e58843371",
   "metadata": {},
   "outputs": [
    {
     "name": "stdout",
     "output_type": "stream",
     "text": [
      "Saved.\n"
     ]
    }
   ],
   "source": [
    "# Save processed datasets if needed\n",
    "train_df.to_csv('../../data/sentiment-analysis/processed_train.csv', index=False)\n",
    "val_df.to_csv('../../data/sentiment-analysis/processed_val.csv', index=False)\n",
    "\n",
    "print(\"Saved.\")"
   ]
  }
 ],
 "metadata": {
  "kernelspec": {
   "display_name": "Python 3 (ipykernel)",
   "language": "python",
   "name": "python3"
  },
  "language_info": {
   "codemirror_mode": {
    "name": "ipython",
    "version": 3
   },
   "file_extension": ".py",
   "mimetype": "text/x-python",
   "name": "python",
   "nbconvert_exporter": "python",
   "pygments_lexer": "ipython3",
   "version": "3.13.5"
  }
 },
 "nbformat": 4,
 "nbformat_minor": 5
}
