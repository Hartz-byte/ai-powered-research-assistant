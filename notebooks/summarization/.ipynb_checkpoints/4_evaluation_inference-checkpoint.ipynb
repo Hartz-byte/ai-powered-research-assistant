{
 "cells": [
  {
   "cell_type": "code",
   "execution_count": 1,
   "id": "2c55ba04-c03c-4061-9f6d-a200ed8a85c7",
   "metadata": {},
   "outputs": [
    {
     "name": "stdout",
     "output_type": "stream",
     "text": [
      "Using device: cuda\n"
     ]
    }
   ],
   "source": [
    "# Imports\n",
    "import os\n",
    "import json\n",
    "import torch\n",
    "import torch.nn as nn\n",
    "import torch.nn.functional as F\n",
    "import pandas as pd\n",
    "from tqdm import tqdm\n",
    "from rouge_score import rouge_scorer\n",
    "\n",
    "# Device (GPU if available)\n",
    "device = torch.device(\"cuda\" if torch.cuda.is_available() else \"cpu\")\n",
    "print(f\"Using device: {device}\")"
   ]
  },
  {
   "cell_type": "code",
   "execution_count": 2,
   "id": "83801041-2a88-4eaa-b687-0d58e4dcbba9",
   "metadata": {},
   "outputs": [],
   "source": [
    "# Load joint vocabulary\n",
    "vocab_path = '../../models/summarization/vocab.json'\n",
    "\n",
    "with open(vocab_path, 'r') as f:\n",
    "    vocab = json.load(f)\n",
    "\n",
    "idx2word = {int(i): w for w, i in vocab.items()}\n",
    "word2idx = vocab\n",
    "\n",
    "# Special tokens\n",
    "PAD_TOKEN   = '<PAD>'\n",
    "UNK_TOKEN   = '<UNK>'\n",
    "START_TOKEN = '<START>'\n",
    "END_TOKEN   = '<END>'"
   ]
  },
  {
   "cell_type": "code",
   "execution_count": 3,
   "id": "7e0a0006-e81a-44a4-980f-08fc2c023d38",
   "metadata": {},
   "outputs": [],
   "source": [
    "# TransformerSummarizer Model Definition\n",
    "class TransformerSummarizer(nn.Module):\n",
    "    def __init__(self, vocab_size, emb_dim, nhead, ff_dim, num_layers,\n",
    "                 max_article_len, max_summary_len, pad_idx):\n",
    "        super().__init__()\n",
    "        self.embedding = nn.Embedding(vocab_size, emb_dim, padding_idx=pad_idx)\n",
    "        self.pos_encoder = nn.Embedding(max_article_len, emb_dim)\n",
    "        self.pos_decoder = nn.Embedding(max_summary_len, emb_dim)\n",
    "        \n",
    "        self.transformer = nn.Transformer(\n",
    "            d_model=emb_dim,\n",
    "            nhead=nhead,\n",
    "            num_encoder_layers=num_layers,\n",
    "            num_decoder_layers=num_layers,\n",
    "            dim_feedforward=ff_dim,\n",
    "            dropout=0.1,\n",
    "            batch_first=True\n",
    "        )\n",
    "        \n",
    "        self.fc_out = nn.Linear(emb_dim, vocab_size)\n",
    "        self.max_article_len = max_article_len\n",
    "        self.max_summary_len = max_summary_len\n",
    "\n",
    "    def forward(self, src, tgt):\n",
    "        src_mask = None\n",
    "        tgt_mask = nn.Transformer.generate_square_subsequent_mask(tgt.size(1)).to(tgt.device)\n",
    "        \n",
    "        src_pos = self.pos_encoder(torch.arange(self.max_article_len, device=src.device)).unsqueeze(0)\n",
    "        tgt_pos = self.pos_decoder(torch.arange(self.max_summary_len, device=tgt.device)).unsqueeze(0)\n",
    "        \n",
    "        src_emb = self.embedding(src) + src_pos[:, :src.size(1), :]\n",
    "        tgt_emb = self.embedding(tgt) + tgt_pos[:, :tgt.size(1), :]\n",
    "        \n",
    "        outs = self.transformer(src_emb, tgt_emb, src_mask=src_mask, tgt_mask=tgt_mask)\n",
    "        return self.fc_out(outs)"
   ]
  },
  {
   "cell_type": "code",
   "execution_count": 4,
   "id": "66683da6-e53e-4f41-9bc9-c7b3689b0c73",
   "metadata": {},
   "outputs": [
    {
     "name": "stdout",
     "output_type": "stream",
     "text": [
      "Model loaded and set to eval mode.\n"
     ]
    }
   ],
   "source": [
    "# Instantiate Model and Load Checkpoint\n",
    "# Hyperparameters\n",
    "VOCAB_SIZE = len(vocab)\n",
    "EMBEDDING_DIM = 256\n",
    "NUM_HEADS = 8\n",
    "FF_DIM = 512\n",
    "NUM_LAYERS = 4\n",
    "MAX_ARTICLE_LEN = 400\n",
    "MAX_SUMMARY_LEN = 50\n",
    "\n",
    "pad_idx = vocab[PAD_TOKEN]\n",
    "\n",
    "model = TransformerSummarizer(\n",
    "    vocab_size=VOCAB_SIZE,\n",
    "    emb_dim=EMBEDDING_DIM,\n",
    "    nhead=NUM_HEADS,\n",
    "    ff_dim=FF_DIM,\n",
    "    num_layers=NUM_LAYERS,\n",
    "    max_article_len=MAX_ARTICLE_LEN,\n",
    "    max_summary_len=MAX_SUMMARY_LEN,\n",
    "    pad_idx=pad_idx\n",
    ").to(device)\n",
    "\n",
    "checkpoint_path = '../../models/summarization/best_summarization_model.pt'\n",
    "model.load_state_dict(torch.load(checkpoint_path, map_location=device))\n",
    "model.eval()\n",
    "\n",
    "print(\"Model loaded and set to eval mode.\")"
   ]
  },
  {
   "cell_type": "code",
   "execution_count": 5,
   "id": "473e8251-fef2-44bc-8d7c-bc4d7f29b45d",
   "metadata": {},
   "outputs": [],
   "source": [
    "# Preprocessing Function\n",
    "def preprocess_text(text, vocab, max_len):\n",
    "    tokens = text.split()[:max_len]\n",
    "    token_ids = [vocab.get(t, vocab.get(UNK_TOKEN, 1)) for t in tokens]\n",
    "    # Pad to max_len if shorter\n",
    "    if len(token_ids) < max_len:\n",
    "        token_ids += [vocab.get(PAD_TOKEN, 0)] * (max_len - len(token_ids))\n",
    "    return token_ids"
   ]
  },
  {
   "cell_type": "code",
   "execution_count": 6,
   "id": "39e09fbf-fd3c-4016-80aa-73b882d9a603",
   "metadata": {},
   "outputs": [],
   "source": [
    "# Beam Search Decoder for Transformer\n",
    "def beam_search_decode_transformer(model, src_indices, vocab, idx2word, beam_width=4, max_summary_len=50, alpha=0.7):\n",
    "    model.eval()\n",
    "    with torch.no_grad():\n",
    "        device = next(model.parameters()).device\n",
    "        src = torch.tensor([src_indices], dtype=torch.long, device=device)\n",
    "\n",
    "        # Encoder embeddings + positional embeddings\n",
    "        src_pos = model.pos_encoder(torch.arange(model.max_article_len, device=device)).unsqueeze(0)\n",
    "        src_emb = model.embedding(src) + src_pos[:, :src.size(1), :]\n",
    "\n",
    "        memory = model.transformer.encoder(src_emb)\n",
    "\n",
    "        start_id = vocab[START_TOKEN]\n",
    "        end_id = vocab[END_TOKEN]\n",
    "\n",
    "        beams = [(0.0, [start_id])]  # (score, token_id_sequence)\n",
    "\n",
    "        for _ in range(max_summary_len):\n",
    "            all_candidates = []\n",
    "            for score, seq in beams:\n",
    "                if seq[-1] == end_id:\n",
    "                    all_candidates.append((score, seq))\n",
    "                    continue\n",
    "\n",
    "                tgt_seq = torch.tensor([seq], dtype=torch.long, device=device)\n",
    "                tgt_pos = model.pos_decoder(torch.arange(len(seq), device=device)).unsqueeze(0)\n",
    "                tgt_emb = model.embedding(tgt_seq) + tgt_pos\n",
    "\n",
    "                tgt_mask = nn.Transformer.generate_square_subsequent_mask(len(seq)).to(device)\n",
    "\n",
    "                decoder_output = model.transformer.decoder(tgt_emb, memory, tgt_mask=tgt_mask)\n",
    "\n",
    "                logits = model.fc_out(decoder_output[:, -1, :])\n",
    "                log_probs = F.log_softmax(logits, dim=-1).squeeze(0)  # (vocab_size,)\n",
    "\n",
    "                top_log_probs, top_ids = torch.topk(log_probs, beam_width)\n",
    "\n",
    "                for log_p, token_id in zip(top_log_probs.tolist(), top_ids.tolist()):\n",
    "                    new_score = score + log_p\n",
    "                    new_seq = seq + [token_id]\n",
    "                    all_candidates.append((new_score, new_seq))\n",
    "\n",
    "            # Length normalization\n",
    "            beams = sorted(all_candidates,\n",
    "                           key=lambda x: x[0] / (len(x[1]) ** alpha),\n",
    "                           reverse=True)[:beam_width]\n",
    "\n",
    "            if all(seq[-1] == end_id for _, seq in beams):\n",
    "                break\n",
    "\n",
    "        best_seq = beams[0][1]\n",
    "\n",
    "        # Remove start token and tokens following end token if present\n",
    "        if end_id in best_seq:\n",
    "            best_seq = best_seq[1:best_seq.index(end_id)]\n",
    "        else:\n",
    "            best_seq = best_seq[1:]\n",
    "\n",
    "        summary = ' '.join(idx2word.get(i, UNK_TOKEN) for i in best_seq)\n",
    "        return summary"
   ]
  },
  {
   "cell_type": "code",
   "execution_count": 7,
   "id": "85e22401-549f-4ff8-b3c8-523adfb6b811",
   "metadata": {},
   "outputs": [],
   "source": [
    "# Load Validation Data\n",
    "val_df = pd.read_csv('../../data/summarization/processed_val_split.csv')"
   ]
  },
  {
   "cell_type": "code",
   "execution_count": 8,
   "id": "090170fc-da52-4b9b-b088-f38066c67957",
   "metadata": {},
   "outputs": [],
   "source": [
    "# Setup ROUGE Scorer\n",
    "scorer = rouge_scorer.RougeScorer(['rouge1', 'rougeL'], use_stemmer=True)"
   ]
  },
  {
   "cell_type": "code",
   "execution_count": 9,
   "id": "45731e15-fe56-4c1c-a5a7-f53bf8cf0908",
   "metadata": {
    "scrolled": true
   },
   "outputs": [
    {
     "name": "stderr",
     "output_type": "stream",
     "text": [
      "Evaluating samples:   1%|▋                                                              | 1/100 [00:01<02:30,  1.52s/it]"
     ]
    },
    {
     "name": "stdout",
     "output_type": "stream",
     "text": [
      "\n",
      "Sample 1\n",
      "Article:\n",
      " cnn sixty six people have died from west nile virus infections this year, and the number of human cases has grown to 1,590, the u.s. centers for disease control and prevention said wednesday. that's the highest case count through the last week of august since the virus was first detected in the united states in 1999. nearly half of all the infections have occurred in texas, where officials said later wednesday that 894 cases have been reported along with 34 deaths. those numbers are going to go up, said dr. david lakey, commissioner for the texas department of state health services. lakey said it looks like 2012 will be the worst year so far when it comes to west nile virus cases. in 2003, texas reported 40 deaths because of the virus, and health officials believe they will surpass that number this year. all lower 48 states are now reporting west nile activity, and 43 states have reported at least one person infected with the virus. fast facts on west nile virus . more than 70 of all west nile virus cases in the united states are found in six states texas, south dakota, mississippi, oklahoma, louisiana and michigan, according to the cdc. while the cdc said these are the highest number of cases reported by the last week in august since the disease was first recorded in 1999, it's not the highest number the country has seen. in 2003, the united states had 9,862 reported cases of west nile virus, and in 2002 there were more than 4,100 cases and 284 fatalities. in more than half the current nationwide cases, west nile has led to neuroinvasive disease serious illnesses like meningitis, encephalitis or virus associated paralysis. about 10 of these cases can be fatal, according to the cdc, and a high proportion of those who survive can be left with longstanding neurological problems. older people are more vulnerable to severe illness from west nile. so far, the median age among those with neuroinvasive disease this year is 58. in texas, nearly two thirds of all cases are in people older than 50. health officials do not yet know why there are more cases this year than in recent years. based on previous experiences with floods and hurricanes, health officials do not believe hurricane isaac will have a major impact on this year's outbreak. mosquitoes that spread the virus breed in small nutrient rich pools of water, such as the water found in old tires, so a large rainfall event or flooding usually washes out those small pools and eliminates breeding sites, said dr. lyle petersen, who heads the cdc's division of vector borne infections. but after the water recedes, there's always the possibility that new small pools of water will form. petersen urged the public to take proper precautions to prevent getting sick regardless of whether they live in a state with high or low case counts. to reduce your risk of exposure to mosquitoes and to prevent their breeding sites . drain all standing water from flower pots, old tires, clogged rain gutters, etc., where mosquitoes breed. use an insect repellant that contains deet, picaridin or oil of lemon eucalyptus. also wear long sleeves and long pants to protect your skin when you're outside. stay indoors at dusk and dawn because that's when mosquitoes are most active. west nile outbreak largest ever in u.s. \n",
      "\n",
      "Reference Summary:\n",
      " more than 1,590 cases of the virus are reported . it's the highest case count through the last week of august since the virus was discovered . texas is the hardest hit, with 34 deaths reported . \n",
      "\n",
      "Predicted Summary:\n",
      " the number of cases have been reported in the past year . more than half of cases have been reported . the number of cases have been reported . \n",
      "\n",
      "ROUGE-1: 0.3548, ROUGE-L: 0.2258\n",
      "\n"
     ]
    },
    {
     "name": "stderr",
     "output_type": "stream",
     "text": [
      "Evaluating samples:   2%|█▎                                                             | 2/100 [00:02<02:11,  1.34s/it]"
     ]
    },
    {
     "name": "stdout",
     "output_type": "stream",
     "text": [
      "\n",
      "Sample 2\n",
      "Article:\n",
      " it should come as no surprise that joe simpson appears wise beyond his years. the 26 year old wasps scrum half speaks with the air of a man twice his age after a year of emotional turmoil following the tragically premature death of his 58 year old mother brigid, who passed away last january after a six month battle with skin cancer. that simpson has come through as a calm and reflective man, and happens to be playing the best rugby of his life, is testament to him and the club. last season was tough, simpson said. it was an emotionally draining year. she sacrificed so much for me, driving me all over the country from the age of 10, to club games and to england camps. some of the locations were far from glamorous and i remember her standing watching in the pouring rain, all wrapped up. my family have always been incredibly supportive. wasps scrum half joe simpson left tries to evade the tackle of bath fly half george ford at the rec . simpson left puts his body on the line to halt matt banahan as the bath winger powers over for a try . simpson has been in superb form for a rejuvenated wasps outfit this season . after his mum died, simpson was grateful for the presence of rugby in his life. rugby was a brilliant distraction for me, he said. the coaches, the owner and every single member of staff were magnificent. they let me take as much time off as i wanted after mum died but i didn t want to take time off. i m a rugby player. it s what i do. being around the guys, i could temporarily forget things out on the training pitch. the support i received will stay with me. it meant a lot to me at a time when i was feeling pretty low. i ve come back feeling fresh and i m loving my rugby and being part of the rejuvenation of this club on and off the pitch. i m over the moon with how things are going for me. danny care harlequins age 28 . height 5ft 7in . weight 13st 4lb . 2014 15 games 15 points 21 . ben youngs leicester age 25 . height 5ft 10in . weight 13st 9lb . 2014 15 games 14 points 5 . richard wigglesworth saracens age 31 . height 5ft 9in . weight 13st 6lb . 2014 15 games 14 points 22 . simpson, one of a core group of wasps players who refused to jump ship when the club went through financial instability two seasons ago, was owed some loyalty from the side he supported as a lad growing up near their acton training ground in west london. with huge investment, a move to coventry s ricoh arena and an ambitious recruitment drive under way, simpson s outstanding form at no 9 is a reflection of the club s health. the players that director of rugby dai young has brought in have gelled with the existing players and you re able to see that in the results, simpson added. we re not the finished product, we still have a way to go, but it s a very healthy place to play, train and be part of. i m playing the best rugby of my career. i m bossing the matches more effectively without losing that dangerous edge with the ability to snap up tries here and there and utilise my finishing and my pace. that s something i love to bring to the game because it sets me apart from other no 9s. on saturday night at the stoop, simpson goes head to head with england scrum half danny care, the man he replaced in the 2011 world cup squad after care suffered a foot injury in the warm up game against wales. simpson s solitary cap in the pool win over georgia seems a long time ago. wasps coach dai young has overseen a difficult period for the club following their move to coventry . it is not inconceivable that his club form could see a return in time for this year s world cup. a strong show against care in a must win european game for both clubs would do his chances no harm, four days before stuart lancaster names his six nations squad. playing for england is why you play rugby, said simpson, who racked up his 150th game for wasps against bath last saturday. i ve already had the experience of being around the squad for a few years and being in autumn and six nations squads. i ve been capped and been to a world cup and that s where i want to be. there s no bigger stage. i haven t spoken to the england coaches. i m just trying to keep my head down here and carry on doing what i m doing. simpson left replaced danny care in the 2011 world cup squad following the harlequins scrum half's injury . my all round game is at a peak and i want to keep improving until my mid 30s. i feel like i can offer something to england and i d love to be given the opportunity. it s about me maintaining my form and the club maintaining its form. i always set my targets as high as possible while trying to stay realistic. but my ambition has to be to break into that england squad. i would love to be capped in the world cup. first and foremost, i d love to be part of the world cup squad in the summer. that would give me a shot and then it would be down to me to take my opportunity. following the personal tragedy of last season, few would begrudge simpson a break. \n",
      "\n",
      "Reference Summary:\n",
      " joe simpson has been outstanding for wasps this season . the wasps scrum half refused to jump ship when the club went through financial instability two seasons ago . wasps face harlequins in the rugby champions cup on saturday . simpson well go head to head against danny care at the stoop . simpson won his england solitary cap against george in the 2011 rugby world cup in new zealand . \n",
      "\n",
      "Predicted Summary:\n",
      " <UNK> <UNK> has been out of the championship season with a knee injury . the 33 year old has been given a chance of his girlfriend <UNK> . the former england striker is hoping to be fit for the club . \n",
      "\n",
      "ROUGE-1: 0.2308, ROUGE-L: 0.1538\n",
      "\n"
     ]
    },
    {
     "name": "stderr",
     "output_type": "stream",
     "text": [
      "Evaluating samples:   3%|█▉                                                             | 3/100 [00:04<02:18,  1.43s/it]"
     ]
    },
    {
     "name": "stdout",
     "output_type": "stream",
     "text": [
      "\n",
      "Sample 3\n",
      "Article:\n",
      " cnn when malcolm x was assassinated on february 21, 1965, many americans viewed his killing as simply the result of an ongoing feud between him and the nation of islam. he had publicly left the nation of islam in march 1964, and as the months wore on the animus between malcolm's camp and the nation of islam grew increasingly caustic, with bitter denunciations coming from both sides. a week before he was killed, malcolm's home owned by the nation of islam, which was seeking to evict him was firebombed, and malcolm believed members of the nation of islam to be responsible. for investigators and commentators alike, then, his death was an open and shut case muslims did it. yet although three members of the nation of islam were tried and found guilty for the killing, two of them maintained their innocence and decades of research has since cast doubt on the outcome of the case. tens of thousands of declassified pages documenting government surveillance, infiltration and disruption of black leaders and organizations including malcolm x and the nation of islam suggest the conclusions drawn by law enforcement were self serving. furthermore, irregularities in how investigators and prosecutors handled the case reflect at best gross negligence, and at worst something more sinister. at the time of his death, time magazine remembered malcolm x unsympathetically as a pimp, a cocaine addict and a thief and an unashamed demagogue. but for those who had been paying closer attention to him, malcolm x was an uncompromising advocate for the urban poor and working class black america. instead of advocating integration, he called for self determination instead of nonviolence in the face of violent anti black attacks, he called for self defense. he reserved moral appeals for other people committed to social justice the government, on the other hand, he understood in terms of organized power to be challenged, disrupted and or dismantled and sought to leverage alliances with newly independent african states to challenge that power. it was his challenge to the organized power of the state that appealed to growing numbers of african americans, and it was this challenge that also attracted a close following among federal, state and local law enforcement. under federal bureau of investigation director j. edgar hoover's watch, the fbi kept close tabs on malcolm's every move through the use of informants and agents. even before malcolm began attracting large audiences and widespread media coverage in the late 1950s and early '60s, the fbi reported on his efforts to organize nation of islam mosques around the country. one organizing meeting in a private home in boston in 1954 had maybe a dozen or so people present one of them reported to the fbi. after malcolm left the nation of islam in march 1964, agents pondered the prospect of a depoliticized more religious malcolm, but still perceived him as a threat. on june 5, 1964, hoover sent a telegram to the fbi's new york office that simply and plainly instructed, do something about malcolm x enough of this black violence in ny. one wonders, what that something was. in new york, the fbi's actions were complemented by, if not coordinated with, the new york police department's bureau of special services, which regularly logged license plates of cars parked outside mosques, organizational meetings, business and homes. the actions of the police on the day of malcolm's assassination are particularly noteworthy. normally up to two dozen police were assigned at malcolm x's rallies, but on february 21, just a week after his home had been firebombed, not one officer was stationed at the entrance to the audubon ballroom where the meeting took place. and while two uniformed officers were inside the building, they remained in a smaller room, at a distance from the main event area. the lack of a police presence was unusual and was compounded by internal compromises on the part of malcolm's own security staff, which included at least one bureau of special services agent who had infiltrated his organization. reportedly at malcolm's request, his security had abandoned the search procedure that had been customary at both nation of islam and muslim mosque organization of afro american unity meetings. without the search procedure, his armed assassins were able to enter the ballroom undetected. when the assassins stood up to shoot malcolm, his security guards stationed at the front of the stage moved not to secure him, but to clear out of the way. these anomalies, in and of themselves, could have been inconsequential. but combined, even if just by coincidence, they proved to be deadly, and allowed for one of the most prophetic revolutionary voices of the 20th century to be silenced. the investigation that followed was just as careless. the crime scene was not secured for extensive forensic analysis instead, it was cleaned up to allow for a scheduled dance to take place that afternoon, with bullet holes still in the wall for activists, of course, malcolm x's death took on greater significance than law enforcement publicly expressed. congress of racial equality chairman james farmer was among the first to suggest that malcolm's murder was more than just an act of sectarian violence between two rival black organizations. i believe this was a political killing, he asserted, in response to malcolm's growing national profile within the civil rights movement. he called for a federal inquiry unbeknownst to farmer, an ironic request given the level of covert federal oversight that was already in place. slowly, farmer's doubts gained considerable traction. author and journalist louis lomax, who had covered malcolm x and the nation of islam on several occasions, put malcolm x's assassination in context with martin luther king jr.'s in to kill a black man 1968 . more than four decades ago, activist george breitman was among the first to challenge the police version of who was responsible for malcolm x's death. more recently, the work done at columbia university's malcolm x project, culminating in manning marable's pulitzer prize winning malcolm x a life of reinvention, echoed these doubts and put at the forefront these unanswered questions about malcolm x's murder. these questions deserve answers. they call upon us to revisit not just the political significance of malcolm x's life, but the implications of his murder. our government especially deserves scrutiny for its covert information gathering, disinformation campaigns, and even violence waged against its own citizens. fifty years later, we still have more to learn from malcolm x's life, and his death, and our government's actions toward him. \n",
      "\n",
      "Reference Summary:\n",
      " malcolm x was assassinated on february 21, 1965 . zaheer ali fifty years later, we still have more to learn from malcolm x's life . \n",
      "\n",
      "Predicted Summary:\n",
      " <UNK> <UNK> was a member of the <UNK> of the <UNK> of <UNK> . he was sentenced to life for the first time in the 1990s of <UNK> . he says the <UNK> of the <UNK> of the <UNK> of the <UNK> of the <UNK> . he was \n",
      "\n",
      "ROUGE-1: 0.0870, ROUGE-L: 0.0870\n",
      "\n"
     ]
    },
    {
     "name": "stderr",
     "output_type": "stream",
     "text": [
      "Evaluating samples: 100%|█████████████████████████████████████████████████████████████| 100/100 [01:52<00:00,  1.12s/it]"
     ]
    },
    {
     "name": "stdout",
     "output_type": "stream",
     "text": [
      "\n",
      "Average ROUGE-1 score over 100 samples: 0.1853\n",
      "Average ROUGE-L score over 100 samples: 0.1387\n"
     ]
    },
    {
     "name": "stderr",
     "output_type": "stream",
     "text": [
      "\n"
     ]
    }
   ],
   "source": [
    "# Evaluation Loop with Beam Search Decoding\n",
    "n_samples = 100\n",
    "rouge1_scores = []\n",
    "rougeL_scores = []\n",
    "\n",
    "for i in tqdm(range(n_samples), desc=\"Evaluating samples\"):\n",
    "    article_text = val_df['clean_article'].iloc[i]\n",
    "    reference_summary = val_df['clean_summary'].iloc[i]\n",
    "\n",
    "    src_indices = preprocess_text(article_text, vocab, MAX_ARTICLE_LEN)\n",
    "\n",
    "    pred_summary = beam_search_decode_transformer(\n",
    "        model, src_indices, vocab, idx2word,\n",
    "        beam_width=4,\n",
    "        max_summary_len=MAX_SUMMARY_LEN,\n",
    "        alpha=0.7\n",
    "    )\n",
    "\n",
    "    scores = scorer.score(reference_summary, pred_summary)\n",
    "    rouge1_scores.append(scores['rouge1'].fmeasure)\n",
    "    rougeL_scores.append(scores['rougeL'].fmeasure)\n",
    "\n",
    "    if i < 3:\n",
    "        print(f\"\\nSample {i+1}\")\n",
    "        print(\"Article:\\n\", article_text, \"\\n\")\n",
    "        print(\"Reference Summary:\\n\", reference_summary, \"\\n\")\n",
    "        print(\"Predicted Summary:\\n\", pred_summary, \"\\n\")\n",
    "        print(f\"ROUGE-1: {scores['rouge1'].fmeasure:.4f}, ROUGE-L: {scores['rougeL'].fmeasure:.4f}\\n\")\n",
    "\n",
    "avg_rouge1 = sum(rouge1_scores) / len(rouge1_scores)\n",
    "avg_rougeL = sum(rougeL_scores) / len(rougeL_scores)\n",
    "\n",
    "print(f\"\\nAverage ROUGE-1 score over {n_samples} samples: {avg_rouge1:.4f}\")\n",
    "print(f\"Average ROUGE-L score over {n_samples} samples: {avg_rougeL:.4f}\")"
   ]
  },
  {
   "cell_type": "code",
   "execution_count": null,
   "id": "306d478a-b910-4cb0-b37d-2a011c822064",
   "metadata": {},
   "outputs": [],
   "source": []
  }
 ],
 "metadata": {
  "kernelspec": {
   "display_name": "Python 3 (ipykernel)",
   "language": "python",
   "name": "python3"
  },
  "language_info": {
   "codemirror_mode": {
    "name": "ipython",
    "version": 3
   },
   "file_extension": ".py",
   "mimetype": "text/x-python",
   "name": "python",
   "nbconvert_exporter": "python",
   "pygments_lexer": "ipython3",
   "version": "3.13.5"
  }
 },
 "nbformat": 4,
 "nbformat_minor": 5
}
