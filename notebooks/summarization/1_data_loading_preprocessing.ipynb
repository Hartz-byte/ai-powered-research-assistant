{
 "cells": [
  {
   "cell_type": "code",
   "execution_count": 1,
   "id": "5f7c782d-567f-4073-973c-d286db37b1c6",
   "metadata": {},
   "outputs": [],
   "source": [
    "# Imports\n",
    "import pandas as pd\n",
    "import re\n",
    "from sklearn.model_selection import train_test_split"
   ]
  },
  {
   "cell_type": "code",
   "execution_count": 2,
   "id": "7be8f526-024b-4fa9-800f-0774a10dbf08",
   "metadata": {},
   "outputs": [
    {
     "name": "stdout",
     "output_type": "stream",
     "text": [
      "article       By . Mia De Graaf . Britons flocked to beaches...\n",
      "highlights    People enjoyed temperatures of 17C at Brighton...\n",
      "Name: 0, dtype: object\n"
     ]
    }
   ],
   "source": [
    "# Load data\n",
    "processed_path = '../../data/summarization/processed_train.csv'\n",
    "train_path = '../../data/summarization/processed_train_split.csv'\n",
    "val_path = '../../data/summarization/processed_val_split.csv'\n",
    "data_path = '../../data/summarization/train.csv'\n",
    "df = pd.read_csv(data_path)\n",
    "\n",
    "# Sample ~57,000 rows randomly\n",
    "df = df.sample(n=57000, random_state=42).reset_index(drop=True)\n",
    "\n",
    "# Inspect a sample\n",
    "print(df[['article', 'highlights']].iloc[0])"
   ]
  },
  {
   "cell_type": "code",
   "execution_count": 3,
   "id": "f992b383-1279-4935-b864-3f60990ab6ae",
   "metadata": {},
   "outputs": [],
   "source": [
    "# Clean text function\n",
    "def clean_text(text):\n",
    "    text = str(text).replace('\\n', ' ').lower()\n",
    "    text = re.sub(r'https?://\\S+|www\\.\\S+', '', text)\n",
    "    text = re.sub(r\"[^a-z0-9\\s.,']\", \" \", text)\n",
    "    text = re.sub(r'\\s+', ' ', text).strip()\n",
    "    return text\n",
    "\n",
    "df['clean_article'] = df['article'].apply(clean_text)\n",
    "df['clean_highlights'] = df['highlights'].apply(clean_text)"
   ]
  },
  {
   "cell_type": "code",
   "execution_count": 4,
   "id": "8f3c253a-3c1f-4289-af01-94575126ccd0",
   "metadata": {},
   "outputs": [
    {
     "name": "stdout",
     "output_type": "stream",
     "text": [
      "Total samples after sampling & cleaning: 57000\n"
     ]
    }
   ],
   "source": [
    "# Drop rows with empty cleaned fields\n",
    "df = df[\n",
    "    (df['clean_article'].str.len() > 0) &\n",
    "    (df['clean_highlights'].str.len() > 0)\n",
    "]\n",
    "\n",
    "print(f\"Total samples after sampling & cleaning: {len(df)}\")"
   ]
  },
  {
   "cell_type": "code",
   "execution_count": 5,
   "id": "c1e418f9-8a5d-4754-a728-02515b6bb426",
   "metadata": {},
   "outputs": [
    {
     "name": "stdout",
     "output_type": "stream",
     "text": [
      "Cleaned sample dataset saved to: ../../data/summarization/processed_train.csv\n"
     ]
    }
   ],
   "source": [
    "# Save\n",
    "df[['id', 'clean_article', 'clean_highlights']].to_csv(processed_path, index=False)\n",
    "print(f\"Cleaned sample dataset saved to: {processed_path}\")"
   ]
  },
  {
   "cell_type": "code",
   "execution_count": 6,
   "id": "4d85e8e6-d704-489d-bf01-b2ae57de8ba6",
   "metadata": {},
   "outputs": [],
   "source": [
    "# Split into train/val\n",
    "train_df, val_df = train_test_split(\n",
    "    df[['id', 'clean_article', 'clean_highlights']],\n",
    "    test_size=0.15,\n",
    "    random_state=42\n",
    ")\n",
    "\n",
    "train_df.to_csv(train_path, index=False)\n",
    "val_df.to_csv(val_path, index=False)"
   ]
  },
  {
   "cell_type": "code",
   "execution_count": 7,
   "id": "a886e3df-2385-48f9-bee4-34c08330ebd7",
   "metadata": {},
   "outputs": [
    {
     "name": "stdout",
     "output_type": "stream",
     "text": [
      "\n",
      "Training samples: 48450\n",
      "Validation samples: 8550\n",
      "\n",
      "Preprocessing complete.\n"
     ]
    }
   ],
   "source": [
    "# Summary\n",
    "print(f\"\\nTraining samples: {len(train_df)}\")\n",
    "print(f\"Validation samples: {len(val_df)}\")\n",
    "\n",
    "print(\"\\nPreprocessing complete.\")"
   ]
  },
  {
   "cell_type": "code",
   "execution_count": null,
   "id": "0af4ea82-edc8-4508-b050-449426184820",
   "metadata": {},
   "outputs": [],
   "source": []
  }
 ],
 "metadata": {
  "kernelspec": {
   "display_name": "Python 3 (ipykernel)",
   "language": "python",
   "name": "python3"
  },
  "language_info": {
   "codemirror_mode": {
    "name": "ipython",
    "version": 3
   },
   "file_extension": ".py",
   "mimetype": "text/x-python",
   "name": "python",
   "nbconvert_exporter": "python",
   "pygments_lexer": "ipython3",
   "version": "3.13.5"
  }
 },
 "nbformat": 4,
 "nbformat_minor": 5
}
